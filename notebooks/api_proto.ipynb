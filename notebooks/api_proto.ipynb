{
 "cells": [
  {
   "cell_type": "code",
   "execution_count": 1,
   "metadata": {},
   "outputs": [],
   "source": [
    "%load_ext autoreload\n",
    "%autoreload 2\n"
   ]
  },
  {
   "cell_type": "code",
   "execution_count": 2,
   "metadata": {},
   "outputs": [],
   "source": [
    "from food_manager_api.api import Api"
   ]
  },
  {
   "cell_type": "code",
   "execution_count": 3,
   "metadata": {},
   "outputs": [
    {
     "name": "stderr",
     "output_type": "stream",
     "text": [
      "\u001b[32m2023-12-05 22:35:27.934\u001b[0m | \u001b[1mINFO    \u001b[0m | \u001b[36mfood_manager_api.api\u001b[0m:\u001b[36m__init__\u001b[0m:\u001b[36m28\u001b[0m - \u001b[1mUsing database at E:\\dev\\food-manager\\data\\db.sqlite3\u001b[0m\n",
      "\u001b[32m2023-12-05 22:35:27.942\u001b[0m | \u001b[1mINFO    \u001b[0m | \u001b[36mfood_manager_api.db.utils\u001b[0m:\u001b[36mcreate_tables\u001b[0m:\u001b[36m10\u001b[0m - \u001b[1mDatabase tables created\u001b[0m\n",
      "\u001b[32m2023-12-05 22:35:27.972\u001b[0m | \u001b[1mINFO    \u001b[0m | \u001b[36mfood_manager_api.db.utils\u001b[0m:\u001b[36mdrop_tables\u001b[0m:\u001b[36m16\u001b[0m - \u001b[1mDatabase tables dropped\u001b[0m\n",
      "\u001b[32m2023-12-05 22:35:27.975\u001b[0m | \u001b[1mINFO    \u001b[0m | \u001b[36mfood_manager_api.db.utils\u001b[0m:\u001b[36mcreate_tables\u001b[0m:\u001b[36m10\u001b[0m - \u001b[1mDatabase tables created\u001b[0m\n"
     ]
    },
    {
     "data": {
      "text/html": [
       "<div>\n",
       "<style scoped>\n",
       "    .dataframe tbody tr th:only-of-type {\n",
       "        vertical-align: middle;\n",
       "    }\n",
       "\n",
       "    .dataframe tbody tr th {\n",
       "        vertical-align: top;\n",
       "    }\n",
       "\n",
       "    .dataframe thead th {\n",
       "        text-align: right;\n",
       "    }\n",
       "</style>\n",
       "<table border=\"1\" class=\"dataframe\">\n",
       "  <thead>\n",
       "    <tr style=\"text-align: right;\">\n",
       "      <th></th>\n",
       "      <th>id</th>\n",
       "      <th>name</th>\n",
       "      <th>quantity</th>\n",
       "      <th>date_added</th>\n",
       "    </tr>\n",
       "  </thead>\n",
       "  <tbody>\n",
       "    <tr>\n",
       "      <th>0</th>\n",
       "      <td>1</td>\n",
       "      <td>apple</td>\n",
       "      <td>1</td>\n",
       "      <td>2023-12-05 21:35:27.975924+00:00</td>\n",
       "    </tr>\n",
       "    <tr>\n",
       "      <th>1</th>\n",
       "      <td>2</td>\n",
       "      <td>apple</td>\n",
       "      <td>1</td>\n",
       "      <td>2023-12-05 21:35:28.980855+00:00</td>\n",
       "    </tr>\n",
       "    <tr>\n",
       "      <th>2</th>\n",
       "      <td>3</td>\n",
       "      <td>apple</td>\n",
       "      <td>1</td>\n",
       "      <td>2023-12-05 21:35:29.994248+00:00</td>\n",
       "    </tr>\n",
       "    <tr>\n",
       "      <th>3</th>\n",
       "      <td>4</td>\n",
       "      <td>apple</td>\n",
       "      <td>1</td>\n",
       "      <td>2023-12-05 21:35:31.009036+00:00</td>\n",
       "    </tr>\n",
       "    <tr>\n",
       "      <th>4</th>\n",
       "      <td>5</td>\n",
       "      <td>apple</td>\n",
       "      <td>1</td>\n",
       "      <td>2023-12-05 21:35:32.024320+00:00</td>\n",
       "    </tr>\n",
       "    <tr>\n",
       "      <th>5</th>\n",
       "      <td>6</td>\n",
       "      <td>apple</td>\n",
       "      <td>1</td>\n",
       "      <td>2023-12-05 21:35:33.038452+00:00</td>\n",
       "    </tr>\n",
       "    <tr>\n",
       "      <th>6</th>\n",
       "      <td>7</td>\n",
       "      <td>apple</td>\n",
       "      <td>1</td>\n",
       "      <td>2023-12-05 21:35:34.052918+00:00</td>\n",
       "    </tr>\n",
       "    <tr>\n",
       "      <th>7</th>\n",
       "      <td>8</td>\n",
       "      <td>apple</td>\n",
       "      <td>1</td>\n",
       "      <td>2023-12-05 21:35:35.077662+00:00</td>\n",
       "    </tr>\n",
       "    <tr>\n",
       "      <th>8</th>\n",
       "      <td>9</td>\n",
       "      <td>apple</td>\n",
       "      <td>1</td>\n",
       "      <td>2023-12-05 21:35:36.092325+00:00</td>\n",
       "    </tr>\n",
       "    <tr>\n",
       "      <th>9</th>\n",
       "      <td>10</td>\n",
       "      <td>apple</td>\n",
       "      <td>1</td>\n",
       "      <td>2023-12-05 21:35:37.106883+00:00</td>\n",
       "    </tr>\n",
       "    <tr>\n",
       "      <th>10</th>\n",
       "      <td>11</td>\n",
       "      <td>apple</td>\n",
       "      <td>1</td>\n",
       "      <td>2023-12-05 21:35:38.137211+00:00</td>\n",
       "    </tr>\n",
       "  </tbody>\n",
       "</table>\n",
       "</div>"
      ],
      "text/plain": [
       "    id   name  quantity                        date_added\n",
       "0    1  apple         1  2023-12-05 21:35:27.975924+00:00\n",
       "1    2  apple         1  2023-12-05 21:35:28.980855+00:00\n",
       "2    3  apple         1  2023-12-05 21:35:29.994248+00:00\n",
       "3    4  apple         1  2023-12-05 21:35:31.009036+00:00\n",
       "4    5  apple         1  2023-12-05 21:35:32.024320+00:00\n",
       "5    6  apple         1  2023-12-05 21:35:33.038452+00:00\n",
       "6    7  apple         1  2023-12-05 21:35:34.052918+00:00\n",
       "7    8  apple         1  2023-12-05 21:35:35.077662+00:00\n",
       "8    9  apple         1  2023-12-05 21:35:36.092325+00:00\n",
       "9   10  apple         1  2023-12-05 21:35:37.106883+00:00\n",
       "10  11  apple         1  2023-12-05 21:35:38.137211+00:00"
      ]
     },
     "execution_count": 3,
     "metadata": {},
     "output_type": "execute_result"
    }
   ],
   "source": [
    "import time\n",
    "\n",
    "\n",
    "api = Api()\n",
    "api._drop_tables()\n",
    "api._create_tables()\n",
    "for i in range(10):\n",
    "    api.add_food_item(name=\"apple\", quantity=1)\n",
    "    time.sleep(1)\n",
    "api.add_food_item(name=\"apple\", quantity=1)\n",
    "api.get_all_food_items()\n"
   ]
  },
  {
   "cell_type": "code",
   "execution_count": null,
   "metadata": {},
   "outputs": [],
   "source": []
  }
 ],
 "metadata": {
  "kernelspec": {
   "display_name": ".venv",
   "language": "python",
   "name": "python3"
  },
  "language_info": {
   "codemirror_mode": {
    "name": "ipython",
    "version": 3
   },
   "file_extension": ".py",
   "mimetype": "text/x-python",
   "name": "python",
   "nbconvert_exporter": "python",
   "pygments_lexer": "ipython3",
   "version": "3.11.7"
  }
 },
 "nbformat": 4,
 "nbformat_minor": 2
}
